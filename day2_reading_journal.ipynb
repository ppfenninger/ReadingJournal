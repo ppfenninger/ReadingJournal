{
 "cells": [
  {
   "cell_type": "markdown",
   "metadata": {},
   "source": [
    "# Day 2 Reading Journal\n",
    "\n",
    "This journal includes several required exercises, but it is meant to encourage active reading more generally.  You should use the journal to take detailed notes, catalog questions, and explore the content from Think Python deeply.\n",
    "\n",
    "Reading: Think Python Chapter 6.1-6.4, 7\n",
    "\n",
    "**Due: Thursday, January 28 at 12 noon**\n",
    "\n"
   ]
  },
  {
   "cell_type": "markdown",
   "metadata": {},
   "source": [
    "## [Chapter 6.1-6.4](http://www.greenteapress.com/thinkpython/html/thinkpython007.html)\n",
    "\n",
    "Note: the exercise numbers below match up with the reading for ease of cross referencing."
   ]
  },
  {
   "cell_type": "markdown",
   "metadata": {},
   "source": [
    "**Quick check:** What is a _fruitful function_?\n",
    "\n",
    "It is a function that returns a value"
   ]
  },
  {
   "cell_type": "markdown",
   "metadata": {},
   "source": [
    "Incremental Development\n",
    "    -Way to decrease the amount of time spent debugging\n",
    "    -Add and test a small amount of code at a time\n",
    "    \n",
    "Composition - the ability to call one function from another\n",
    "\n",
    "Functions can also return booleans.\n",
    "\n",
    "Following recursion can be difficult so it is sometimes better to \"take a leap of faith\" and assume that it works. It makes functions easier to debug rather than trying to follow them all of the way through\n",
    "\n",
    "isinstance(n, type) can be used to check the type of a variable to insure that the user is inputting the right type. \n",
    "\n",
    "If a function is not working, there are three possibilities \n",
    "    1. Something is wrong with the arguments (a precondition is violated)\n",
    "    2. Something is wrong with the function (a post condition is violated)\n",
    "    3. There is something wrong with the return value or the way that it is being used\n",
    "    \n",
    "\n"
   ]
  },
  {
   "cell_type": "markdown",
   "metadata": {},
   "source": [
    " "
   ]
  },
  {
   "cell_type": "markdown",
   "metadata": {},
   "source": [
    "### Exercise 1  \n",
    "Write a `compare` function that returns `1` if `x > y`, `0` if `x == y`, and `-1` if `x < y`."
   ]
  },
  {
   "cell_type": "code",
   "execution_count": 5,
   "metadata": {
    "collapsed": false
   },
   "outputs": [
    {
     "name": "stdout",
     "output_type": "stream",
     "text": [
      "-1\n",
      "1\n",
      "Wrong type\n"
     ]
    }
   ],
   "source": [
    "def compare(x,y):\n",
    "    if isinstance(x+y, int) or isinstance(x+y, float):\n",
    "        if x > y:\n",
    "            return 1\n",
    "        elif x == 0:\n",
    "            return 0\n",
    "        else:\n",
    "            return -1\n",
    "    else:\n",
    "        return 'Wrong type'\n",
    "    \n",
    "print(compare(2,3))\n",
    "print(compare(5.5, 2))\n",
    "print(compare('a', 'b'))"
   ]
  },
  {
   "cell_type": "markdown",
   "metadata": {},
   "source": [
    "**Quick check:** Modify the `absolute_value` function so that it returns the correct result for all integer inputs."
   ]
  },
  {
   "cell_type": "code",
   "execution_count": 7,
   "metadata": {
    "collapsed": false
   },
   "outputs": [
    {
     "name": "stdout",
     "output_type": "stream",
     "text": [
      "3\n",
      "2\n",
      "0\n",
      "not an integer\n"
     ]
    }
   ],
   "source": [
    "def absolute_value(x):\n",
    "    if isinstance(x, int):\n",
    "        if x < 0:\n",
    "            return -x\n",
    "        if x >= 0:\n",
    "            return x\n",
    "    else:\n",
    "        return 'not an integer'\n",
    "\n",
    "print(absolute_value(-3))\n",
    "print(absolute_value(2))\n",
    "print(absolute_value(0))\n",
    "print(absolute_value('hi'))"
   ]
  },
  {
   "cell_type": "markdown",
   "metadata": {},
   "source": [
    "### Exercise 2  \n",
    "Use incremental development to write a function called `hypotenuse` that returns the length of the hypotenuse of a right triangle given the lengths of the two legs as arguments. Record each stage of the development process as you go, using as many cells as you need."
   ]
  },
  {
   "cell_type": "code",
   "execution_count": 8,
   "metadata": {
    "collapsed": false
   },
   "outputs": [
    {
     "name": "stdout",
     "output_type": "stream",
     "text": [
      "0\n"
     ]
    }
   ],
   "source": [
    "def hypotenuse(a, b):\n",
    "    return 0\n",
    "print(hypotenuse(3, 5))"
   ]
  },
  {
   "cell_type": "code",
   "execution_count": 16,
   "metadata": {
    "collapsed": false
   },
   "outputs": [
    {
     "name": "stdout",
     "output_type": "stream",
     "text": [
      "a^2 is 9\n",
      "b^2 is 16\n"
     ]
    },
    {
     "data": {
      "text/plain": [
       "0"
      ]
     },
     "execution_count": 16,
     "metadata": {},
     "output_type": "execute_result"
    }
   ],
   "source": [
    "def hypotenuse(a, b):\n",
    "    a = a**2\n",
    "    b = b**2\n",
    "    print \"a^2 is\", a \n",
    "    print 'b^2 is', b\n",
    "    return 0\n",
    "hypotenuse(3, 4)"
   ]
  },
  {
   "cell_type": "code",
   "execution_count": 17,
   "metadata": {
    "collapsed": false
   },
   "outputs": [
    {
     "name": "stdout",
     "output_type": "stream",
     "text": [
      "sum is  25\n"
     ]
    },
    {
     "data": {
      "text/plain": [
       "0"
      ]
     },
     "execution_count": 17,
     "metadata": {},
     "output_type": "execute_result"
    }
   ],
   "source": [
    "def hypotenuse(a, b):\n",
    "    a = a**2\n",
    "    b = b**2\n",
    "    c = a + b\n",
    "    print 'sum is ', c\n",
    "    return 0\n",
    "hypotenuse(3, 4)"
   ]
  },
  {
   "cell_type": "code",
   "execution_count": 20,
   "metadata": {
    "collapsed": false
   },
   "outputs": [
    {
     "name": "stdout",
     "output_type": "stream",
     "text": [
      "hypotenuse is  5.0\n"
     ]
    },
    {
     "data": {
      "text/plain": [
       "0"
      ]
     },
     "execution_count": 20,
     "metadata": {},
     "output_type": "execute_result"
    }
   ],
   "source": [
    "import math\n",
    "def hypotenuse(a, b):\n",
    "    a = a**2\n",
    "    b = b**2\n",
    "    c = a + b\n",
    "    c = math.sqrt(c)\n",
    "    print 'hypotenuse is ', c\n",
    "    return 0\n",
    "hypotenuse(3, 4)"
   ]
  },
  {
   "cell_type": "markdown",
   "metadata": {},
   "source": [
    "### Exercise 3  \n",
    "Write a function `is_between(x, y, z)` that returns `True` if `x ≤ y ≤ z` or `False` otherwise."
   ]
  },
  {
   "cell_type": "code",
   "execution_count": 23,
   "metadata": {
    "collapsed": false
   },
   "outputs": [
    {
     "name": "stdout",
     "output_type": "stream",
     "text": [
      "True\n",
      "True\n",
      "False\n",
      "True\n",
      "False\n",
      "None\n"
     ]
    }
   ],
   "source": [
    "def is_between(x, y, z):\n",
    "    if isinstance(x + y + z, int) or isinstance(x + y + z, float):\n",
    "        if x <= y and y <= z:\n",
    "            return True\n",
    "        else:\n",
    "            return False\n",
    "    else:\n",
    "        return 'None'\n",
    "\n",
    "print is_between(1, 2, 3)\n",
    "print is_between(1, 1, 1)\n",
    "print is_between(-3, -5, 1)\n",
    "print is_between(-3, -1, 0)\n",
    "print is_between(3, 5, 2)\n",
    "print is_between('a', 'b', 'c')"
   ]
  },
  {
   "cell_type": "markdown",
   "metadata": {},
   "source": [
    "## [Chapter 7](http://www.greenteapress.com/thinkpython/html/thinkpython008.html)\n",
    "\n"
   ]
  },
  {
   "cell_type": "markdown",
   "metadata": {},
   "source": [
    "It is legal to make more than one assignment to the same variable  (it just stops referring to the old value) \n",
    "This is used often, but if the values of variables change frequently, it can make the code less readable.\n",
    "\n",
    "A common type of reassignment is an update, but varaibles have to be initilized before you can update them. \n",
    "\n",
    "While can be used for repetition in python\n",
    "    1. the while statement will continue as long as the condition statement is true\n",
    "    2. When the while statement becomes false, it is exited \n",
    "Break can also be used to exit a loop. \n",
    "\n",
    "An algorithim is a mechanical process for solving a problem. \n",
    "    Simple algorithims that every one knows are the pocesses for adding, multiplying, and dividing (long division)\n",
    "    \n",
    "A faster way to debug is known as \"debugging by bisection\"\n",
    "    1. Break the problem in half\n",
    "    2. Add a print statement in the middle (or something that has a verifiable effect)\n",
    "    3. Run the program and see if the mid-point it correct\n",
    "    4. If it is, the problem is in the bottom half\n",
    "    5. If it isn't, there is a problem in the top half\n",
    "    6. Repeat as needed. "
   ]
  },
  {
   "cell_type": "markdown",
   "metadata": {},
   "source": [
    "**Quick check:** How do you test for equality in Python?"
   ]
  },
  {
   "cell_type": "code",
   "execution_count": null,
   "metadata": {
    "collapsed": true
   },
   "outputs": [],
   "source": [
    "a == b"
   ]
  },
  {
   "cell_type": "markdown",
   "metadata": {},
   "source": [
    " "
   ]
  },
  {
   "cell_type": "markdown",
   "metadata": {},
   "source": [
    "**Challenge:** Prove/disprove the Collatz conjecture :)"
   ]
  },
  {
   "cell_type": "markdown",
   "metadata": {},
   "source": [
    "Haha, no"
   ]
  },
  {
   "cell_type": "markdown",
   "metadata": {},
   "source": [
    "### Exercise 2  \n",
    "Encapsulate the loop from Section 7.5 in a function called `square_root` that takes `a` as a parameter, chooses a reasonable value of `x`, and returns an estimate of the square root of `a`."
   ]
  },
  {
   "cell_type": "code",
   "execution_count": 30,
   "metadata": {
    "collapsed": false
   },
   "outputs": [
    {
     "name": "stdout",
     "output_type": "stream",
     "text": [
      "2.0\n",
      "4.0\n",
      "4.472135955\n",
      "10.0\n",
      "1.0\n"
     ]
    }
   ],
   "source": [
    "def square_root(a):\n",
    "    x = a/2.0\n",
    "    while x**2 != a:\n",
    "        y = (x + a / x)/2\n",
    "        if abs(y-x) < 0.0000000001:\n",
    "            break\n",
    "        x = y\n",
    "    return x\n",
    "\n",
    "print square_root(4)\n",
    "print square_root(16)\n",
    "print square_root(20)\n",
    "print square_root(100)\n",
    "print square_root(1)\n",
    "        "
   ]
  },
  {
   "cell_type": "markdown",
   "metadata": {},
   "source": [
    "### Exercise 3  \n",
    "To test the square root algorithm you developed in Exercise 2, you could compare it with Python's `math.sqrt` function. Write a function named `test_square_root` that prints a table like this:\n",
    "\n",
    "```python\n",
    "1.0 1.0           1.0           0.0\n",
    "2.0 1.41421356237 1.41421356237 2.22044604925e-16\n",
    "3.0 1.73205080757 1.73205080757 0.0\n",
    "4.0 2.0           2.0           0.0\n",
    "5.0 2.2360679775  2.2360679775  0.0\n",
    "6.0 2.44948974278 2.44948974278 0.0\n",
    "7.0 2.64575131106 2.64575131106 0.0\n",
    "8.0 2.82842712475 2.82842712475 4.4408920985e-16\n",
    "9.0 3.0           3.0           0.0\n",
    "```\n",
    "\n",
    "The first column is a number, `a`; the second column is the square root of a computed with the function from Section 7.5; the third column is the square root computed by `math.sqrt`; the fourth column is the absolute value of the difference between the two estimates."
   ]
  },
  {
   "cell_type": "code",
   "execution_count": 35,
   "metadata": {
    "collapsed": false
   },
   "outputs": [
    {
     "name": "stdout",
     "output_type": "stream",
     "text": [
      "1 1.0 1.0 1.11022302463e-15\n",
      "2 1.41421356237 1.41421356237 1.59472435257e-12\n",
      "3 1.73205080757 1.73205080757 0.0\n",
      "4 2.0 2.0 0.0\n",
      "5 2.2360679775 2.2360679775 0.0\n",
      "6 2.44948974278 2.44948974278 8.881784197e-16\n",
      "7 2.64575131106 2.64575131106 1.02584607475e-13\n",
      "8 2.82842712475 2.82842712475 3.18944870514e-12\n",
      "9 3.00000000004 3.0 3.9321434997e-11\n"
     ]
    }
   ],
   "source": [
    "import math \n",
    "def test_square_root(a):\n",
    "    x = a/2.0\n",
    "    while x**2 != a:\n",
    "        y = (x + a / x)/2\n",
    "        if abs(y-x) < 0.0000000001:\n",
    "            break\n",
    "        x = y\n",
    "\n",
    "    s = math.sqrt(a)\n",
    "    print a, x, s, abs(s-x)\n",
    "\n",
    "test_square_root(1)\n",
    "test_square_root(2)\n",
    "test_square_root(3)\n",
    "test_square_root(4)\n",
    "test_square_root(5)\n",
    "test_square_root(6)\n",
    "test_square_root(7)\n",
    "test_square_root(8)\n",
    "test_square_root(9)"
   ]
  },
  {
   "cell_type": "markdown",
   "metadata": {},
   "source": [
    "### Challenge: Exercise 5  (optional)\n",
    "The mathematician Srinivasa Ramanujan found an infinite series that can be used to generate a numerical approximation of\n",
    "$\\frac{1}{\\pi}$:\n",
    "\n",
    "$$\\frac{1}{\\pi} = \\frac{2 \\sqrt{2}}{9801} \\sum_{k=0}^{\\infty} \\frac{(4k)! (1103+26390k)}{(k!)^4 396^{4k}}$$\n",
    " \n",
    "Write a function called `estimate_pi` that uses this formula to compute and return an estimate of $\\pi$. It should use a `while` loop to compute terms of the summation until the last term is smaller than `1e-15` (which is Python notation for $10^{−15}$). You can check the result by comparing it to `math.pi`.\n",
    "\n",
    "[Possible solution](http://thinkpython.com/code/pi.py) (give the exercise a try before viewing the solution)"
   ]
  },
  {
   "cell_type": "code",
   "execution_count": null,
   "metadata": {
    "collapsed": true
   },
   "outputs": [],
   "source": []
  },
  {
   "cell_type": "markdown",
   "metadata": {},
   "source": [
    "## Reading Journal feedback\n",
    "\n",
    "Have any comments on this Reading Journal? Feel free to leave them below and we'll read them when you submit your journal entry. This could include suggestions to improve the exercises, topics you'd like to see covered in class next time, or other feedback.\n",
    "\n",
    "If you have Python questions or run into problems while completing the reading, you should post them to Piazza instead so you can get a quick response before your journal is submitted."
   ]
  },
  {
   "cell_type": "markdown",
   "metadata": {},
   "source": [
    " "
   ]
  }
 ],
 "metadata": {
  "kernelspec": {
   "display_name": "Python 2",
   "language": "python",
   "name": "python2"
  },
  "language_info": {
   "codemirror_mode": {
    "name": "ipython",
    "version": 2
   },
   "file_extension": ".py",
   "mimetype": "text/x-python",
   "name": "python",
   "nbconvert_exporter": "python",
   "pygments_lexer": "ipython2",
   "version": "2.7.6"
  }
 },
 "nbformat": 4,
 "nbformat_minor": 0
}
