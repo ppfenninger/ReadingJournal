{
 "cells": [
  {
   "cell_type": "markdown",
   "metadata": {},
   "source": [
    "# Day 11 Reading Journal\n",
    "\n",
    "This journal includes several required exercises, but it is meant to encourage active reading more generally.  You should use the journal to take detailed notes, catalog questions, and explore the content from Think Python deeply.\n",
    "\n",
    "Reading: Review Think Python Chapters 15-17\n",
    "\n",
    "**Due: Monday, February 29 at 12 noon**\n",
    "\n"
   ]
  },
  {
   "cell_type": "markdown",
   "metadata": {},
   "source": [
    "## [Chapter 15](http://www.greenteapress.com/thinkpython/html/thinkpython016.html), [Chapter 16](http://www.greenteapress.com/thinkpython/html/thinkpython017.html), [Chapter 17](http://www.greenteapress.com/thinkpython/html/thinkpython018.html)\n",
    "\n",
    "\n",
    "By the end of chapter 17, we have all the tools we need to create our own user-defined types known as classes. In this reading journal, we're asking you to review and solidify your understanding of this material so we can build on it for the rest of the course. \n",
    "\n",
    "If you didn't get a chance to fully complete the Day 10 reading journal, you may want to do so now."
   ]
  },
  {
   "cell_type": "markdown",
   "metadata": {
    "problem": "Terminology"
   },
   "source": [
    "### Terminology\n",
    "\n",
    "You should be familiar with the following list of terms and concepts. If any of them are unclear to you, re-read, ask, write a definition in your own words, and try an example if appropriate.\n",
    "\n",
    " - class\n",
    " - object\n",
    " - instance\n",
    " - attribute\n",
    " - method\n",
    " - shallow vs deep copying\n",
    " - pure functions vs modifiers\n",
    " - initializing object instances\n",
    " "
   ]
  },
  {
   "cell_type": "markdown",
   "metadata": {
    "is_question": true,
    "problem": "Exercise 1"
   },
   "source": [
    "### Exercise\n",
    "\n",
    "We're going to take the first steps toward writing a calendar application. To keep things simple, we'll restrict ourselves to a single day for now. Write an `Event` class with the following attributes:\n",
    "\n",
    " - `name`  : Title for the `Event`\n",
    " - `start` : `Time` object representing the start time for the `Event`\n",
    " - `end`   : `Time` object representing the end time for the `Event`\n",
    "\n",
    "You can also augment your `Event` class with additional attributes, such as location and attendees.\n",
    "\n",
    "Write `__init__` and `__str__` methods for your `Event` class."
   ]
  },
  {
   "cell_type": "code",
   "execution_count": 2,
   "metadata": {
    "collapsed": false,
    "solution": "Exercise 1"
   },
   "outputs": [
    {
     "name": "stdout",
     "output_type": "stream",
     "text": [
      "Birthday starts at 00:00:00 and ends at 01:00:00\n"
     ]
    }
   ],
   "source": [
    "class Time(object):\n",
    "    def __init__(self, hour=0, minute=0, second=0):\n",
    "        self.hour = hour\n",
    "        self.minute = minute\n",
    "        self.second = second\n",
    "    def __str__(self):\n",
    "        return '%.2d:%.2d:%.2d' % (self.hour, self.minute, self.second)\n",
    "    \n",
    "class Event(object):\n",
    "    def __init__(self, name = '', start = Time(0, 0, 0), end = Time(0, 0, 0)):\n",
    "        self.name = name\n",
    "        self.start = start\n",
    "        self.end = end\n",
    "    def __str__(self):\n",
    "        return '{} starts at {} and ends at {}'.format(self.name, self.start, self.end)\n",
    "    \n",
    "t1 = Time(0, 0, 0)\n",
    "t2 = Time(1, 0, 0)\n",
    "e = Event('Birthday', t1, t2)\n",
    "print e"
   ]
  },
  {
   "cell_type": "markdown",
   "metadata": {
    "is_question": true,
    "problem": "Exercise 2"
   },
   "source": [
    "### Exercise\n",
    "\n",
    "Write a `duration` method that returns the duration of the `Event` in minutes."
   ]
  },
  {
   "cell_type": "code",
   "execution_count": 5,
   "metadata": {
    "collapsed": false,
    "solution": "Exercise 2"
   },
   "outputs": [
    {
     "name": "stdout",
     "output_type": "stream",
     "text": [
      "Birthday starts at 00:00:00 and ends at 01:00:00\n",
      "60.0\n"
     ]
    }
   ],
   "source": [
    "class Time(object):\n",
    "    def __init__(self, hour=0, minute=0, second=0):\n",
    "        self.hour = hour\n",
    "        self.minute = minute\n",
    "        self.second = second\n",
    "    def __str__(self):\n",
    "        return '%.2d:%.2d:%.2d' % (self.hour, self.minute, self.second)\n",
    "    \n",
    "class Event(object):\n",
    "    def __init__(self, name = '', start = Time(0, 0, 0), end = Time(0, 0, 0)):\n",
    "        self.name = name\n",
    "        self.start = start\n",
    "        self.end = end\n",
    "    def __str__(self):\n",
    "        return '{} starts at {} and ends at {}'.format(self.name, self.start, self.end)\n",
    "    def duration(self):\n",
    "        t1 = self.start\n",
    "        t2 = self.end\n",
    "        minutes = 60*(t2.hour - t1.hour) #hours from both times converted to minutes\n",
    "        minutes += (t2.minute - t1.minute) #adding the number of minutes\n",
    "        minutes += (t2.second - t1.second)/60.0 #adding number of seconds\n",
    "        return minutes\n",
    "t1 = Time(0, 0, 0)\n",
    "t2 = Time(1, 0, 0)\n",
    "e = Event('Birthday', t1, t2)\n",
    "print e\n",
    "print e.duration()"
   ]
  },
  {
   "cell_type": "markdown",
   "metadata": {
    "is_question": true,
    "problem": "Exercise 3"
   },
   "source": [
    "### Exercise\n",
    "\n",
    "Write an `Agenda` class that contains several `Event`s for the day.\n",
    "\n",
    "**Quick check: ** How should you store `Event`s within your `Agenda` class? -- As a list\n",
    "\n",
    "Your `Agenda` class should include a `print_agenda` method that prints out your schedule for the day, in order.\n",
    "\n",
    "**Optional:** Include a `is_feasible` method that returns `True` if your schedule has no time conflicts. You may want to write additional helper methods for the `Event` class to make this easier."
   ]
  },
  {
   "cell_type": "code",
   "execution_count": 11,
   "metadata": {
    "collapsed": false,
    "solution": "Exercise 3"
   },
   "outputs": [
    {
     "name": "stdout",
     "output_type": "stream",
     "text": [
      "Birthday starts at 00:00:00 and ends at 01:00:00\n",
      "Lunch starts at 05:00:00 and ends at 05:03:00\n",
      "Dinner starts at 12:00:00 and ends at 15:20:00\n"
     ]
    }
   ],
   "source": [
    "class Time(object):\n",
    "    def __init__(self, hour=0, minute=0, second=0):\n",
    "        self.hour = hour\n",
    "        self.minute = minute\n",
    "        self.second = second\n",
    "    def __str__(self):\n",
    "        return '%.2d:%.2d:%.2d' % (self.hour, self.minute, self.second)\n",
    "    def in_seconds(self):\n",
    "        seconds = self.hour*60*60 + self.minute*60 + self.second\n",
    "        return seconds\n",
    "    \n",
    "class Event(object):\n",
    "    def __init__(self, name = '', start = Time(0, 0, 0), end = Time(0, 0, 0)):\n",
    "        self.name = name\n",
    "        self.start = start\n",
    "        self.end = end\n",
    "    def __str__(self):\n",
    "        return '{} starts at {} and ends at {}'.format(self.name, self.start, self.end)\n",
    "    def duration(self):\n",
    "        t1 = self.start\n",
    "        t2 = self.end\n",
    "        minutes = 60*(t2.hour - t1.hour) #hours from both times converted to minutes\n",
    "        minutes += (t2.minute - t1.minute) #adding the number of minutes\n",
    "        minutes += (t2.second - t1.second)/60.0 #adding number of seconds\n",
    "        return minutes\n",
    "    \n",
    "class Agenda(object):\n",
    "    def __init__(self, events = []):\n",
    "        self.events = events\n",
    "    def print_agenda(self):\n",
    "        order = []\n",
    "        for item in self.events:\n",
    "            order.append((Time.in_seconds(item.start), item))\n",
    "        order.sort()\n",
    "        for item in order:\n",
    "            print item[1]\n",
    "        \n",
    "t1 = Time(0, 0, 0)\n",
    "t2 = Time(1, 0, 0)\n",
    "t3 = Time(5, 0, 0)\n",
    "t4 = Time(5, 3, 0)\n",
    "t5 = Time(12, 0, 0)\n",
    "t6 = Time(15, 20, 0)\n",
    "e = Agenda([Event('Birthday', t1, t2), Event('Dinner', t5, t6), Event('Lunch', t3, t4)])\n",
    "e.print_agenda()"
   ]
  },
  {
   "cell_type": "markdown",
   "metadata": {
    "is_question": true,
    "problem": "Exercise 4"
   },
   "source": [
    "### Going Beyond (optional)\n",
    "\n",
    "Some ideas for taking your application further:\n",
    " - Add people and/or places to the mix to create a scheduling assistant\n",
    " - Extend support for day-of-week or full date. A word of warning: dealing with dates and times in real applications is difficult due to the huge number of special cases (Perfect example: this reading journal is due on Leap Day). Consider using something like the Python [datetime](https://docs.python.org/2/library/datetime.html) module.\n",
    " - Use pickle or some other persistence strategy to save and load your `Agenda`."
   ]
  },
  {
   "cell_type": "code",
   "execution_count": null,
   "metadata": {
    "collapsed": true,
    "solution": "Exercise 4"
   },
   "outputs": [],
   "source": []
  },
  {
   "cell_type": "markdown",
   "metadata": {
    "is_poll": true,
    "is_question": true,
    "problem": "Time spent"
   },
   "source": [
    "## Quick poll\n",
    "About how long did you spend working on this Reading Journal?"
   ]
  },
  {
   "cell_type": "markdown",
   "metadata": {
    "poll_response": true,
    "solution": "Time spent"
   },
   "source": [
    "45 min "
   ]
  },
  {
   "cell_type": "markdown",
   "metadata": {
    "is_question": true,
    "problem": "Feedback"
   },
   "source": [
    "## Reading Journal feedback\n",
    "\n",
    "Have any comments on this Reading Journal? Feel free to leave them below and we'll read them when you submit your journal entry. This could include suggestions to improve the exercises, topics you'd like to see covered in class next time, or other feedback.\n",
    "\n",
    "If you have Python questions or run into problems while completing the reading, you should post them to Piazza instead so you can get a quick response before your journal is submitted."
   ]
  },
  {
   "cell_type": "markdown",
   "metadata": {
    "feedback_response": true,
    "solution": "Feedback"
   },
   "source": [
    " "
   ]
  }
 ],
 "metadata": {
  "celltoolbar": "Edit Metadata",
  "kernelspec": {
   "display_name": "Python 2",
   "language": "python",
   "name": "python2"
  },
  "language_info": {
   "codemirror_mode": {
    "name": "ipython",
    "version": 2
   },
   "file_extension": ".py",
   "mimetype": "text/x-python",
   "name": "python",
   "nbconvert_exporter": "python",
   "pygments_lexer": "ipython2",
   "version": "2.7.6"
  }
 },
 "nbformat": 4,
 "nbformat_minor": 0
}
