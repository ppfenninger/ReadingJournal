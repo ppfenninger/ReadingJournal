{
 "cells": [
  {
   "cell_type": "markdown",
   "metadata": {},
   "source": [
    "# Day 4 Reading Journal\n",
    "\n",
    "This journal includes several required exercises, but it is meant to encourage active reading more generally.  You should use the journal to take detailed notes, catalog questions, and explore the content from Think Python deeply.\n",
    "\n",
    "Reading: Think Python Chapter 10\n",
    "\n",
    "**Due: Thursday, February 4 at 12 noon**\n",
    "\n"
   ]
  },
  {
   "cell_type": "markdown",
   "metadata": {},
   "source": [
    "## [Chapter 10](http://www.greenteapress.com/thinkpython/html/thinkpython011.html)\n",
    "\n",
    "You may want to review [state diagrams in Chapter 2](http://www.greenteapress.com/thinkpython/html/thinkpython003.html#toc13). [Python Tutor](http://pythontutor.com/) is also helpful for visualizing the state of your program.\n",
    "\n"
   ]
  },
  {
   "cell_type": "markdown",
   "metadata": {},
   "source": [
    "A list is a sequence of values. They can be any type.\n",
    "If you try to read or write an element that doesn't exist you get an index error.\n",
    "The in operator also works in lists. As does the slice operator\n",
    "The operator + concatenates lists. (creates a new list) The operator * repeates a list a given number of times.\n",
    "append can be used to add items to a list (doesn't create a new list).\n",
    "pop modifies the list and returns the element that was removed. If an index isn't provided, it removes the last element.\n",
    "del just deletes the item in a given index.\n",
    "remove is used if you don't know the index, but you know the element. remove returns None\n",
    "list can be used to convert a string into a list. Do not use list as a variable name b/c it's a built in function.\n",
    "To check whether two variables are the same, you can use the is operator.\n",
    "- this can be used to check state diagrams\n",
    "\n",
    "The association of a variable with an object is called a reference, and when two or more varaibles reference an object we say that the object is aliased. -It is generally wise to avoid alaised objects\n",
    "\n",
    "\n",
    "Deleting from a list\n",
    "    - pop(i) deletes the item at that index (modifies the list) - returns the deleted item\n",
    "    - list.remove('thing') removes that thing from the list (modifies the list and returns none)\n",
    "    - del also modifies the list and returns none and can be used to remove multiple indexes at the same time\n",
    "    "
   ]
  },
  {
   "cell_type": "markdown",
   "metadata": {},
   "source": [
    "### Exercise 4  \n",
    "Write a function called `middle` that takes a list and returns a new list that contains all but the first and last elements. So `middle([1,2,3,4])` should return `[2,3]`."
   ]
  },
  {
   "cell_type": "code",
   "execution_count": 3,
   "metadata": {
    "collapsed": false
   },
   "outputs": [
    {
     "data": {
      "text/plain": [
       "[2, 3, 4, 5, 6, 7]"
      ]
     },
     "execution_count": 3,
     "metadata": {},
     "output_type": "execute_result"
    }
   ],
   "source": [
    "def middle(l):\n",
    "    new_list = l[1: len(l) -1]\n",
    "    return new_list\n",
    "\n",
    "middle([1,2,3,4,5,6,7,8])"
   ]
  },
  {
   "cell_type": "markdown",
   "metadata": {},
   "source": [
    "### Exercise 5  \n",
    "Write a function called `chop` that takes a list, modifies it by removing the first and last elements, and returns `None`.\n",
    "\n",
    "What is the difference between `middle` and `chop`? Sketch out the program state or take a look at each in Python Tutor."
   ]
  },
  {
   "cell_type": "code",
   "execution_count": 11,
   "metadata": {
    "collapsed": false
   },
   "outputs": [
    {
     "name": "stdout",
     "output_type": "stream",
     "text": [
      "[2, 3, 4, 5]\n"
     ]
    }
   ],
   "source": [
    "def chop(l):\n",
    "    del l[0]\n",
    "    del l[len(l) - 1]\n",
    "    return None\n",
    "\n",
    "ls = [1,2,3,4,5,6]\n",
    "chop(ls)\n",
    "print ls"
   ]
  },
  {
   "cell_type": "markdown",
   "metadata": {},
   "source": [
    "Middle creates a new modified list, while the original list remains the same, but chop modifies the original list. "
   ]
  },
  {
   "cell_type": "markdown",
   "metadata": {},
   "source": [
    "### Exercise 7  \n",
    "Two words are anagrams if you can rearrange the letters from one to spell the other. Write a function called `is_anagram` that takes two strings and returns `True` if they are anagrams."
   ]
  },
  {
   "cell_type": "code",
   "execution_count": 31,
   "metadata": {
    "collapsed": false
   },
   "outputs": [
    {
     "data": {
      "text/plain": [
       "True"
      ]
     },
     "execution_count": 31,
     "metadata": {},
     "output_type": "execute_result"
    }
   ],
   "source": [
    "def is_anagram(s1, s2):\n",
    "    s1 = s1.lower()\n",
    "    s2 = s2.lower()\n",
    "    s1 = s1.replace(\" \", \"\")\n",
    "    s2 = s2.replace(\" \", \"\")\n",
    "\n",
    "    l2 = list(s2)\n",
    "    for letter in s1:\n",
    "        if letter in l2:\n",
    "            l2.remove(letter)\n",
    "        else:\n",
    "            return False\n",
    "    if len(l2) == 0:\n",
    "        return True\n",
    "    else:\n",
    "        return False\n",
    "\n",
    "is_anagram('iceman    ', 'cinema')"
   ]
  },
  {
   "cell_type": "markdown",
   "metadata": {},
   "source": [
    "### Exercise 8  \n",
    "The (so-called) Birthday Paradox:\n",
    "1. Write a function called `has_duplicates` that takes a list and returns `True` if there is any element that appears more than once. It should not modify the original list.\n",
    "2. If there are 23 students in your class, what are the chances that two of you have the same birthday? You can estimate this probability by generating random samples of 23 birthdays and checking for matches. Hint: you can generate random birthdays with the randint function in the [random module](https://docs.python.org/2/library/random.html).\n",
    "\n",
    "You can read about this problem at http://en.wikipedia.org/wiki/Birthday_paradox, and you can download Allen's solution from http://thinkpython.com/code/birthday.py."
   ]
  },
  {
   "cell_type": "code",
   "execution_count": 9,
   "metadata": {
    "collapsed": false
   },
   "outputs": [
    {
     "name": "stdout",
     "output_type": "stream",
     "text": [
      "0.5052\n"
     ]
    }
   ],
   "source": [
    "import random\n",
    "\n",
    "def has_duplicates(ls):\n",
    "    ls.sort()\n",
    "    for n in range(len(ls)-1):\n",
    "        if ls[n] == ls[n+1]:\n",
    "            return True\n",
    "    return False\n",
    "\n",
    "has_duplicates([1,6,2,3,4,5,6,7])\n",
    "\n",
    "def random_birthdays(num):\n",
    "    l = []\n",
    "    for i in range(0, num):\n",
    "        day = random.randint(0, 364)\n",
    "        l.append(day)\n",
    "    return l\n",
    "\n",
    "def bday_prob(num_students, trials):\n",
    "    true = 0.0\n",
    "    false = 0.0\n",
    "    for i in range(trials):\n",
    "        l = random_birthdays(num_students)\n",
    "        \n",
    "        if has_duplicates(l):\n",
    "            true = true + 1\n",
    "        else:\n",
    "            false = false + 1\n",
    "    prob = true / (true + false)\n",
    "    return prob\n",
    " \n",
    "print bday_prob(23, 100000)"
   ]
  },
  {
   "cell_type": "markdown",
   "metadata": {},
   "source": [
    "### Challenge: Exercise 11 (optional)\n",
    "\n",
    "You should read [Chapter 9.1](http://www.greenteapress.com/thinkpython/html/thinkpython010.html) and do Exercise 1 first.\n",
    "\n",
    "To check whether a word is in the word list, you could use the `in` operator, but it would be relatively slow because it searches through the words in order (try it).\n",
    "\n",
    "Because the words are in alphabetical order, we can speed things up with a bisection search (also known as binary search), which is similar to what you do when you look a word up in the dictionary. You start in the middle and check to see whether the word you are looking for comes before the word in the middle of the list. If so, then you search the first half of the list the same way. Otherwise you search the second half.\n",
    "\n",
    "Either way, you cut the remaining search space in half. If the word list has 113,809 words, it will take about 17 steps to find the word or conclude that it’s not there.\n",
    "\n",
    "Write a function called `bisect` that takes a sorted list and a target value and returns the index of the value in the list, if it’s there, or `None` if it’s not.\n",
    "\n",
    "Or you could read the documentation of the `bisect` module and use that! Solution: http://thinkpython.com/code/inlist.py."
   ]
  },
  {
   "cell_type": "code",
   "execution_count": null,
   "metadata": {
    "collapsed": true
   },
   "outputs": [],
   "source": []
  },
  {
   "cell_type": "markdown",
   "metadata": {},
   "source": [
    "## Reading Journal feedback\n",
    "\n",
    "Have any comments on this Reading Journal? Feel free to leave them below and we'll read them when you submit your journal entry. This could include suggestions to improve the exercises, topics you'd like to see covered in class next time, or other feedback.\n",
    "\n",
    "If you have Python questions or run into problems while completing the reading, you should post them to Piazza instead so you can get a quick response before your journal is submitted."
   ]
  },
  {
   "cell_type": "markdown",
   "metadata": {},
   "source": [
    " "
   ]
  }
 ],
 "metadata": {
  "kernelspec": {
   "display_name": "Python 2",
   "language": "python",
   "name": "python2"
  },
  "language_info": {
   "codemirror_mode": {
    "name": "ipython",
    "version": 2
   },
   "file_extension": ".py",
   "mimetype": "text/x-python",
   "name": "python",
   "nbconvert_exporter": "python",
   "pygments_lexer": "ipython2",
   "version": "2.7.6"
  }
 },
 "nbformat": 4,
 "nbformat_minor": 0
}
